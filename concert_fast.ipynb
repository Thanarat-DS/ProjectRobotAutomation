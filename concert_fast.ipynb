{
 "cells": [
  {
   "cell_type": "code",
   "execution_count": 2,
   "metadata": {},
   "outputs": [
    {
     "name": "stdout",
     "output_type": "stream",
     "text": [
      "Collecting selenium\n",
      "  Downloading selenium-4.27.1-py3-none-any.whl.metadata (7.1 kB)\n",
      "Requirement already satisfied: urllib3<3,>=1.26 in c:\\users\\thanarat.sri\\appdata\\local\\anaconda3\\lib\\site-packages (from urllib3[socks]<3,>=1.26->selenium) (2.0.7)\n",
      "Collecting trio~=0.17 (from selenium)\n",
      "  Downloading trio-0.28.0-py3-none-any.whl.metadata (8.5 kB)\n",
      "Collecting trio-websocket~=0.9 (from selenium)\n",
      "  Using cached trio_websocket-0.11.1-py3-none-any.whl.metadata (4.7 kB)\n",
      "Requirement already satisfied: certifi>=2021.10.8 in c:\\users\\thanarat.sri\\appdata\\local\\anaconda3\\lib\\site-packages (from selenium) (2024.6.2)\n",
      "Requirement already satisfied: typing_extensions~=4.9 in c:\\users\\thanarat.sri\\appdata\\local\\anaconda3\\lib\\site-packages (from selenium) (4.9.0)\n",
      "Collecting websocket-client~=1.8 (from selenium)\n",
      "  Using cached websocket_client-1.8.0-py3-none-any.whl.metadata (8.0 kB)\n",
      "Collecting attrs>=23.2.0 (from trio~=0.17->selenium)\n",
      "  Downloading attrs-24.3.0-py3-none-any.whl.metadata (11 kB)\n",
      "Requirement already satisfied: sortedcontainers in c:\\users\\thanarat.sri\\appdata\\local\\anaconda3\\lib\\site-packages (from trio~=0.17->selenium) (2.4.0)\n",
      "Requirement already satisfied: idna in c:\\users\\thanarat.sri\\appdata\\local\\anaconda3\\lib\\site-packages (from trio~=0.17->selenium) (3.4)\n",
      "Collecting outcome (from trio~=0.17->selenium)\n",
      "  Using cached outcome-1.3.0.post0-py2.py3-none-any.whl.metadata (2.6 kB)\n",
      "Requirement already satisfied: sniffio>=1.3.0 in c:\\users\\thanarat.sri\\appdata\\local\\anaconda3\\lib\\site-packages (from trio~=0.17->selenium) (1.3.0)\n",
      "Requirement already satisfied: cffi>=1.14 in c:\\users\\thanarat.sri\\appdata\\local\\anaconda3\\lib\\site-packages (from trio~=0.17->selenium) (1.16.0)\n",
      "Collecting wsproto>=0.14 (from trio-websocket~=0.9->selenium)\n",
      "  Using cached wsproto-1.2.0-py3-none-any.whl.metadata (5.6 kB)\n",
      "Requirement already satisfied: pysocks!=1.5.7,<2.0,>=1.5.6 in c:\\users\\thanarat.sri\\appdata\\local\\anaconda3\\lib\\site-packages (from urllib3[socks]<3,>=1.26->selenium) (1.7.1)\n",
      "Requirement already satisfied: pycparser in c:\\users\\thanarat.sri\\appdata\\local\\anaconda3\\lib\\site-packages (from cffi>=1.14->trio~=0.17->selenium) (2.21)\n",
      "Requirement already satisfied: h11<1,>=0.9.0 in c:\\users\\thanarat.sri\\appdata\\local\\anaconda3\\lib\\site-packages (from wsproto>=0.14->trio-websocket~=0.9->selenium) (0.14.0)\n",
      "Downloading selenium-4.27.1-py3-none-any.whl (9.7 MB)\n",
      "   ---------------------------------------- 0.0/9.7 MB ? eta -:--:--\n",
      "    --------------------------------------- 0.2/9.7 MB 4.6 MB/s eta 0:00:03\n",
      "   -- ------------------------------------- 0.6/9.7 MB 7.4 MB/s eta 0:00:02\n",
      "   --- ------------------------------------ 0.9/9.7 MB 6.8 MB/s eta 0:00:02\n",
      "   ----- ---------------------------------- 1.2/9.7 MB 7.1 MB/s eta 0:00:02\n",
      "   ------- -------------------------------- 1.8/9.7 MB 8.1 MB/s eta 0:00:01\n",
      "   --------- ------------------------------ 2.4/9.7 MB 9.0 MB/s eta 0:00:01\n",
      "   ----------- ---------------------------- 2.8/9.7 MB 9.4 MB/s eta 0:00:01\n",
      "   -------------- ------------------------- 3.5/9.7 MB 9.8 MB/s eta 0:00:01\n",
      "   ----------------- ---------------------- 4.2/9.7 MB 10.7 MB/s eta 0:00:01\n",
      "   ------------------ --------------------- 4.6/9.7 MB 10.1 MB/s eta 0:00:01\n",
      "   --------------------- ------------------ 5.3/9.7 MB 10.6 MB/s eta 0:00:01\n",
      "   ------------------------ --------------- 6.0/9.7 MB 10.9 MB/s eta 0:00:01\n",
      "   -------------------------- ------------- 6.5/9.7 MB 11.2 MB/s eta 0:00:01\n",
      "   ----------------------------- ---------- 7.2/9.7 MB 11.3 MB/s eta 0:00:01\n",
      "   ---------------------------------- ----- 8.3/9.7 MB 12.0 MB/s eta 0:00:01\n",
      "   ------------------------------------- -- 9.1/9.7 MB 12.4 MB/s eta 0:00:01\n",
      "   ---------------------------------------  9.7/9.7 MB 12.6 MB/s eta 0:00:01\n",
      "   ---------------------------------------- 9.7/9.7 MB 11.7 MB/s eta 0:00:00\n",
      "Downloading trio-0.28.0-py3-none-any.whl (486 kB)\n",
      "   ---------------------------------------- 0.0/486.3 kB ? eta -:--:--\n",
      "   --------------------------------------  481.3/486.3 kB 29.4 MB/s eta 0:00:01\n",
      "   ---------------------------------------- 486.3/486.3 kB 7.7 MB/s eta 0:00:00\n",
      "Using cached trio_websocket-0.11.1-py3-none-any.whl (17 kB)\n",
      "Using cached websocket_client-1.8.0-py3-none-any.whl (58 kB)\n",
      "Downloading attrs-24.3.0-py3-none-any.whl (63 kB)\n",
      "   ---------------------------------------- 0.0/63.4 kB ? eta -:--:--\n",
      "   -------------------------------------- - 61.4/63.4 kB ? eta -:--:--\n",
      "   ---------------------------------------- 63.4/63.4 kB 1.1 MB/s eta 0:00:00\n",
      "Using cached wsproto-1.2.0-py3-none-any.whl (24 kB)\n",
      "Using cached outcome-1.3.0.post0-py2.py3-none-any.whl (10 kB)\n",
      "Installing collected packages: wsproto, websocket-client, attrs, outcome, trio, trio-websocket, selenium\n",
      "  Attempting uninstall: websocket-client\n",
      "    Found existing installation: websocket-client 0.58.0\n",
      "    Uninstalling websocket-client-0.58.0:\n",
      "      Successfully uninstalled websocket-client-0.58.0\n",
      "  Attempting uninstall: attrs\n",
      "    Found existing installation: attrs 23.1.0\n",
      "    Uninstalling attrs-23.1.0:\n",
      "      Successfully uninstalled attrs-23.1.0\n",
      "Successfully installed attrs-24.3.0 outcome-1.3.0.post0 selenium-4.27.1 trio-0.28.0 trio-websocket-0.11.1 websocket-client-1.8.0 wsproto-1.2.0\n",
      "Note: you may need to restart the kernel to use updated packages.\n"
     ]
    }
   ],
   "source": [
    "pip install selenium"
   ]
  },
  {
   "cell_type": "code",
   "execution_count": 4,
   "metadata": {},
   "outputs": [
    {
     "name": "stdout",
     "output_type": "stream",
     "text": [
      "Collecting webdriver_manager\n",
      "  Using cached webdriver_manager-4.0.2-py2.py3-none-any.whl.metadata (12 kB)\n",
      "Requirement already satisfied: requests in c:\\users\\thanarat.sri\\appdata\\local\\anaconda3\\lib\\site-packages (from webdriver_manager) (2.31.0)\n",
      "Requirement already satisfied: python-dotenv in c:\\users\\thanarat.sri\\appdata\\local\\anaconda3\\lib\\site-packages (from webdriver_manager) (0.21.0)\n",
      "Requirement already satisfied: packaging in c:\\users\\thanarat.sri\\appdata\\local\\anaconda3\\lib\\site-packages (from webdriver_manager) (23.1)\n",
      "Requirement already satisfied: charset-normalizer<4,>=2 in c:\\users\\thanarat.sri\\appdata\\local\\anaconda3\\lib\\site-packages (from requests->webdriver_manager) (2.0.4)\n",
      "Requirement already satisfied: idna<4,>=2.5 in c:\\users\\thanarat.sri\\appdata\\local\\anaconda3\\lib\\site-packages (from requests->webdriver_manager) (3.4)\n",
      "Requirement already satisfied: urllib3<3,>=1.21.1 in c:\\users\\thanarat.sri\\appdata\\local\\anaconda3\\lib\\site-packages (from requests->webdriver_manager) (2.0.7)\n",
      "Requirement already satisfied: certifi>=2017.4.17 in c:\\users\\thanarat.sri\\appdata\\local\\anaconda3\\lib\\site-packages (from requests->webdriver_manager) (2024.6.2)\n",
      "Using cached webdriver_manager-4.0.2-py2.py3-none-any.whl (27 kB)\n",
      "Installing collected packages: webdriver_manager\n",
      "Successfully installed webdriver_manager-4.0.2\n",
      "Note: you may need to restart the kernel to use updated packages.\n"
     ]
    }
   ],
   "source": [
    "pip install webdriver_manager"
   ]
  },
  {
   "cell_type": "code",
   "execution_count": 6,
   "metadata": {},
   "outputs": [
    {
     "name": "stdout",
     "output_type": "stream",
     "text": [
      "Collecting selenium_stealth\n",
      "  Using cached selenium_stealth-1.0.6-py3-none-any.whl.metadata (6.4 kB)\n",
      "Requirement already satisfied: selenium in c:\\users\\thanarat.sri\\appdata\\local\\anaconda3\\lib\\site-packages (from selenium_stealth) (4.27.1)\n",
      "Requirement already satisfied: urllib3<3,>=1.26 in c:\\users\\thanarat.sri\\appdata\\local\\anaconda3\\lib\\site-packages (from urllib3[socks]<3,>=1.26->selenium->selenium_stealth) (2.0.7)\n",
      "Requirement already satisfied: trio~=0.17 in c:\\users\\thanarat.sri\\appdata\\local\\anaconda3\\lib\\site-packages (from selenium->selenium_stealth) (0.28.0)\n",
      "Requirement already satisfied: trio-websocket~=0.9 in c:\\users\\thanarat.sri\\appdata\\local\\anaconda3\\lib\\site-packages (from selenium->selenium_stealth) (0.11.1)\n",
      "Requirement already satisfied: certifi>=2021.10.8 in c:\\users\\thanarat.sri\\appdata\\local\\anaconda3\\lib\\site-packages (from selenium->selenium_stealth) (2024.6.2)\n",
      "Requirement already satisfied: typing_extensions~=4.9 in c:\\users\\thanarat.sri\\appdata\\local\\anaconda3\\lib\\site-packages (from selenium->selenium_stealth) (4.9.0)\n",
      "Requirement already satisfied: websocket-client~=1.8 in c:\\users\\thanarat.sri\\appdata\\local\\anaconda3\\lib\\site-packages (from selenium->selenium_stealth) (1.8.0)\n",
      "Requirement already satisfied: attrs>=23.2.0 in c:\\users\\thanarat.sri\\appdata\\local\\anaconda3\\lib\\site-packages (from trio~=0.17->selenium->selenium_stealth) (24.3.0)\n",
      "Requirement already satisfied: sortedcontainers in c:\\users\\thanarat.sri\\appdata\\local\\anaconda3\\lib\\site-packages (from trio~=0.17->selenium->selenium_stealth) (2.4.0)\n",
      "Requirement already satisfied: idna in c:\\users\\thanarat.sri\\appdata\\local\\anaconda3\\lib\\site-packages (from trio~=0.17->selenium->selenium_stealth) (3.4)\n",
      "Requirement already satisfied: outcome in c:\\users\\thanarat.sri\\appdata\\local\\anaconda3\\lib\\site-packages (from trio~=0.17->selenium->selenium_stealth) (1.3.0.post0)\n",
      "Requirement already satisfied: sniffio>=1.3.0 in c:\\users\\thanarat.sri\\appdata\\local\\anaconda3\\lib\\site-packages (from trio~=0.17->selenium->selenium_stealth) (1.3.0)\n",
      "Requirement already satisfied: cffi>=1.14 in c:\\users\\thanarat.sri\\appdata\\local\\anaconda3\\lib\\site-packages (from trio~=0.17->selenium->selenium_stealth) (1.16.0)\n",
      "Requirement already satisfied: wsproto>=0.14 in c:\\users\\thanarat.sri\\appdata\\local\\anaconda3\\lib\\site-packages (from trio-websocket~=0.9->selenium->selenium_stealth) (1.2.0)\n",
      "Requirement already satisfied: pysocks!=1.5.7,<2.0,>=1.5.6 in c:\\users\\thanarat.sri\\appdata\\local\\anaconda3\\lib\\site-packages (from urllib3[socks]<3,>=1.26->selenium->selenium_stealth) (1.7.1)\n",
      "Requirement already satisfied: pycparser in c:\\users\\thanarat.sri\\appdata\\local\\anaconda3\\lib\\site-packages (from cffi>=1.14->trio~=0.17->selenium->selenium_stealth) (2.21)\n",
      "Requirement already satisfied: h11<1,>=0.9.0 in c:\\users\\thanarat.sri\\appdata\\local\\anaconda3\\lib\\site-packages (from wsproto>=0.14->trio-websocket~=0.9->selenium->selenium_stealth) (0.14.0)\n",
      "Using cached selenium_stealth-1.0.6-py3-none-any.whl (32 kB)\n",
      "Installing collected packages: selenium_stealth\n",
      "Successfully installed selenium_stealth-1.0.6\n",
      "Note: you may need to restart the kernel to use updated packages.\n"
     ]
    }
   ],
   "source": [
    "pip install selenium_stealth"
   ]
  },
  {
   "cell_type": "code",
   "execution_count": 1,
   "metadata": {},
   "outputs": [],
   "source": [
    "from selenium import webdriver\n",
    "from selenium.webdriver.support.ui import WebDriverWait\n",
    "from selenium.webdriver.chrome.service import Service\n",
    "from selenium.webdriver.chrome.options import Options\n",
    "from webdriver_manager.chrome import ChromeDriverManager\n",
    "from selenium_stealth import stealth\n",
    "from selenium.webdriver.common.by import By\n",
    "from selenium.webdriver.support import expected_conditions as EC\n",
    "import time\n",
    "import random\n",
    "\n",
    "# \"C:\\Program Files\\Google\\Chrome\\Application\\chrome.exe\" --remote-debugging-port=9222 --user-data-dir=\"C:\\selenium_profile\"\n",
    "\n",
    "price = '฿2,500'\n",
    "zone_target = 'A1'\n",
    "web_target = \"https://www.theconcert.com/concert/3727\"\n",
    "\n",
    "chrome_options = Options()\n",
    "chrome_options.add_argument(\"--start-maximized\")\n",
    "chrome_options.add_argument(\"--disable-notifications\")\n",
    "chrome_options.add_experimental_option(\"debuggerAddress\", \"127.0.0.1:9222\")\n",
    "chrome_options.add_argument(\"user-agent=Mozilla/5.0 (Windows NT 10.0; Win64; x64) AppleWebKit/537.36 (KHTML, like Gecko) Chrome/90.0.4430.93 Safari/537.36\")\n",
    "\n",
    "driver = webdriver.Chrome(service=Service(ChromeDriverManager().install()), options=chrome_options)\n",
    "driver.execute_script(\"Object.defineProperty(navigator, 'webdriver', {get: () => undefined})\")\n",
    "driver.execute_script(\"window.navigator.chrome = { runtime: {} };\")\n",
    "driver.execute_script(\"Object.defineProperty(navigator, 'languages', {get: () => ['en-US', 'en']});\")\n",
    "driver.execute_script(\"Object.defineProperty(navigator, 'plugins', {get: () => [1, 2, 3]});\")\n",
    "\n",
    "# Selenium Stealth settings\n",
    "stealth(driver,\n",
    "      languages=[\"en-US\", \"en\"],\n",
    "      vendor=\"Google Inc.\",\n",
    "      platform=\"Win32\",\n",
    "      webgl_vendor=\"Intel Inc.\",\n",
    "      renderer=\"Intel Iris OpenGL Engine\",\n",
    "      fix_hairline=True,\n",
    "  )"
   ]
  },
  {
   "cell_type": "markdown",
   "metadata": {},
   "source": [
    "## เข้าเว็บ Target & เข้าเลือกที่นั่ง"
   ]
  },
  {
   "cell_type": "code",
   "execution_count": 182,
   "metadata": {},
   "outputs": [],
   "source": [
    "driver.get(web_target)\n",
    "\n",
    "driver.execute_script(\"window.scrollBy(0, 80);\")\n",
    "\n",
    "try:\n",
    "    wait = WebDriverWait(driver, 10)\n",
    "    ticket_button = wait.until(EC.presence_of_element_located((By.XPATH, '//*[@id=\"_main-body\"]/div/div[1]/div[1]/div[2]/div[2]/div[2]/div/div[2]/div[2]/button')))\n",
    "    ticket_button.click()\n",
    "except Exception as e:\n",
    "    print(f\"คลิกปุ่มเข้าซื้อไม่ได้: {e}\")"
   ]
  },
  {
   "cell_type": "markdown",
   "metadata": {},
   "source": [
    "## เลือกโซน"
   ]
  },
  {
   "cell_type": "code",
   "execution_count": 183,
   "metadata": {},
   "outputs": [
    {
     "name": "stdout",
     "output_type": "stream",
     "text": [
      "clicked price: ฿2,500\n"
     ]
    }
   ],
   "source": [
    "try:\n",
    "    wait = WebDriverWait(driver, 10)\n",
    "    price_button = wait.until(EC.element_to_be_clickable((By.XPATH, f\"//a[@class='btn'][contains(text(), '{price}')]\")))\n",
    "    price_button.click()\n",
    "    print(f\"clicked price: {price}\")\n",
    "except Exception as e:\n",
    "    print(f\"คลิกปุ่มราคาไม่ได้: {e}\")"
   ]
  },
  {
   "cell_type": "markdown",
   "metadata": {},
   "source": [
    "## เลือกราคา"
   ]
  },
  {
   "cell_type": "code",
   "execution_count": 184,
   "metadata": {},
   "outputs": [
    {
     "name": "stdout",
     "output_type": "stream",
     "text": [
      "clicked zone: A1\n"
     ]
    }
   ],
   "source": [
    "try:\n",
    "    wait = WebDriverWait(driver, 10)\n",
    "    zone_items = wait.until(EC.presence_of_all_elements_located((By.CSS_SELECTOR, \"li.zone-item\")))\n",
    "    for zone_item in zone_items:\n",
    "        try:\n",
    "            zone_name = zone_item.find_element(By.CSS_SELECTOR, \".badge.badge-zone\").text\n",
    "            if zone_name == zone_target:\n",
    "                zone_item.click()\n",
    "                print(f\"clicked zone: {zone_target}\")\n",
    "                break\n",
    "            else:\n",
    "                print(zone_name, \" != \", zone_target)\n",
    "        except Exception as e:\n",
    "            print(f\"คลิกปุ่มโซนไม่ได้: {e}, zone_name={zone_name}\")\n",
    "except Exception as e:\n",
    "    print(f\"Error: {e}\")"
   ]
  },
  {
   "cell_type": "markdown",
   "metadata": {},
   "source": [
    "## คลิกทุกที่นั่ง"
   ]
  },
  {
   "cell_type": "code",
   "execution_count": 192,
   "metadata": {},
   "outputs": [
    {
     "name": "stdout",
     "output_type": "stream",
     "text": [
      "error or may be it reach limit message:Message: no such window: target window already closed\n",
      "from unknown error: web view not found\n",
      "  (Session info: chrome=131.0.6778.264)\n",
      "Stacktrace:\n",
      "\tGetHandleVerifier [0x00BFFD53+23747]\n",
      "\t(No symbol) [0x00B87D54]\n",
      "\t(No symbol) [0x00A5BE53]\n",
      "\t(No symbol) [0x00A3D91B]\n",
      "\t(No symbol) [0x00AC7EFF]\n",
      "\t(No symbol) [0x00ADAD49]\n",
      "\t(No symbol) [0x00AC1B96]\n",
      "\t(No symbol) [0x00A93F3C]\n",
      "\t(No symbol) [0x00A94EBD]\n",
      "\tGetHandleVerifier [0x00EDAC73+3017699]\n",
      "\tGetHandleVerifier [0x00EEB93B+3086507]\n",
      "\tGetHandleVerifier [0x00EE40F2+3055714]\n",
      "\tGetHandleVerifier [0x00C95AF0+637536]\n",
      "\t(No symbol) [0x00B90A5D]\n",
      "\t(No symbol) [0x00B8DA28]\n",
      "\t(No symbol) [0x00B8DBC5]\n",
      "\t(No symbol) [0x00B807F0]\n",
      "\tBaseThreadInitThunk [0x75C37BA9+25]\n",
      "\tRtlInitializeExceptionChain [0x77B2C0CB+107]\n",
      "\tRtlClearBits [0x77B2C04F+191]\n",
      "\n",
      "success\n"
     ]
    }
   ],
   "source": [
    "try:\n",
    "    text_elements = driver.find_elements(By.CSS_SELECTOR, \"text[style*='cursor: pointer']\")\n",
    "    for element in text_elements:\n",
    "        element.click()\n",
    "\n",
    "        #หน่วงเวลา\n",
    "        time.sleep(random.uniform(0.03, 0.09))\n",
    "except Exception as e:\n",
    "    print(f\"error or may be it reach limit message:{e}\")\n",
    "finally:\n",
    "    print(\"success\")"
   ]
  },
  {
   "cell_type": "markdown",
   "metadata": {},
   "source": [
    "## Test"
   ]
  },
  {
   "cell_type": "code",
   "execution_count": 80,
   "metadata": {},
   "outputs": [
    {
     "name": "stdout",
     "output_type": "stream",
     "text": [
      "An error occurred: object of type 'WebElement' has no len()\n"
     ]
    }
   ],
   "source": [
    "try:\n",
    "    # รอให้ <svg> element โหลดใน DOM\n",
    "    wait = WebDriverWait(driver, 3)\n",
    "    svg_element = wait.until(\n",
    "        EC.presence_of_element_located((By.XPATH, '//*[@id=\"map-container\"]'))\n",
    "    )\n",
    "    print(f\"พบ SVG ทั้งหมด: {len(svg_element)}\")\n",
    "\n",
    "\n",
    "    # หา <tspan> ทั้งหมดภายใน <svg>\n",
    "    tspans = svg_element.find_elements(By.XPATH, './/tspan')\n",
    "    print(f\"Found {len(tspans)} <tspan> elements.\")\n",
    "\n",
    "    # วนลูปคลิกทุก <tspan>\n",
    "    for index, tspan in enumerate(tspans):\n",
    "        try:\n",
    "            # Scroll ให้เห็น element (ถ้าจำเป็น)\n",
    "            driver.execute_script(\"arguments[0].scrollIntoView(true);\", tspan)\n",
    "\n",
    "            # คลิก element\n",
    "            driver.execute_script(\"arguments[0].click();\", tspan)\n",
    "            print(f\"Clicked <tspan> {index + 1}\")\n",
    "        except Exception as e:\n",
    "            print(f\"Could not click <tspan> {index + 1}: {e}\")\n",
    "\n",
    "except Exception as e:\n",
    "    print(f\"An error occurred: {e}\")"
   ]
  }
 ],
 "metadata": {
  "kernelspec": {
   "display_name": "base",
   "language": "python",
   "name": "python3"
  },
  "language_info": {
   "codemirror_mode": {
    "name": "ipython",
    "version": 3
   },
   "file_extension": ".py",
   "mimetype": "text/x-python",
   "name": "python",
   "nbconvert_exporter": "python",
   "pygments_lexer": "ipython3",
   "version": "3.11.7"
  }
 },
 "nbformat": 4,
 "nbformat_minor": 2
}
